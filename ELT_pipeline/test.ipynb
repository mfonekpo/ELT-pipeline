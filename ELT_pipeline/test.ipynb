{
 "cells": [
  {
   "cell_type": "code",
   "execution_count": 83,
   "metadata": {},
   "outputs": [],
   "source": [
    "from bs4 import BeautifulSoup as bs\n",
    "from prefect import task, flow, get_run_logger\n",
    "from prefect.tasks import task_input_hash\n",
    "from datetime import timedelta\n",
    "import requests\n",
    "import sqlite3\n",
    "import os\n",
    "import pandas as pd\n",
    "import numpy as np\n",
    "import re\n",
    "import datetime"
   ]
  },
  {
   "cell_type": "code",
   "execution_count": 84,
   "metadata": {},
   "outputs": [],
   "source": [
    "# base_url = \"https://hotels.ng/places/nigeria-1/{pages}\"\n",
    "base_url = \"https://hotels.ng\"\n",
    "def get_page(url, page):\n",
    "    response = requests.get(f\"{url}{page}\")\n",
    "    response.raise_for_status()\n",
    "    soup = bs(response.text, \"html.parser\")\n",
    "    return soup"
   ]
  },
  {
   "cell_type": "code",
   "execution_count": 85,
   "metadata": {},
   "outputs": [],
   "source": [
    "names = []\n",
    "locations = []\n",
    "categories = []\n",
    "descriptions = []\n",
    "likes = []\n",
    "urls = []\n",
    "def parse_names(soup, name_tag: str):\n",
    "    for name in soup.select(name_tag):\n",
    "        names.append(name.text.strip())\n",
    "    return names"
   ]
  },
  {
   "cell_type": "code",
   "execution_count": 86,
   "metadata": {},
   "outputs": [],
   "source": [
    "def parse_locations(soup, location_tag: str):\n",
    "    tag_name, tag_attrs = location_tag\n",
    "    for loc in soup.find_all(tag_name, **tag_attrs):\n",
    "        locations.append(loc.find_all(\"p\")[1].text.strip())\n",
    "    return locations"
   ]
  },
  {
   "cell_type": "code",
   "execution_count": 87,
   "metadata": {},
   "outputs": [],
   "source": [
    "def parse_categories(soup, category_tag:str):\n",
    "    tag_name, tag_attrs = category_tag\n",
    "    for cat in soup.find_all(tag_name, **tag_attrs):\n",
    "        categories.append(cat.find_all(\"p\")[0].text.strip())\n",
    "    return categories"
   ]
  },
  {
   "cell_type": "code",
   "execution_count": 88,
   "metadata": {},
   "outputs": [],
   "source": [
    "def parse_descriptions(soup, description_tag:str):\n",
    "    tag_name, tag_attrs = description_tag\n",
    "    for desc in soup.find_all(tag_name, **tag_attrs):\n",
    "        descriptions.append(desc.text.strip().replace(\"\\n\", \"\").replace(\"\\r\", \"\"))\n",
    "    return descriptions"
   ]
  },
  {
   "cell_type": "code",
   "execution_count": 89,
   "metadata": {},
   "outputs": [],
   "source": [
    "def parse_likes(soup, like_tag:str):\n",
    "    tag_name, tag_attrs = like_tag\n",
    "    for like in soup.find_all(tag_name, **tag_attrs):\n",
    "        likes.append(like.find_all(\"span\")[1].text.strip())\n",
    "    return likes"
   ]
  },
  {
   "cell_type": "code",
   "execution_count": 90,
   "metadata": {},
   "outputs": [],
   "source": [
    "def parse_urls(soup, url_tag:str):\n",
    "    tag_name, tag_attrs = url_tag\n",
    "    for url in soup.find_all(tag_name, **tag_attrs):\n",
    "        urls.append(base_url+url.find_all(\"a\")[0][\"href\"])\n",
    "    return urls\n",
    "    # urls = [base_url+url.find_all(\"a\")[0][\"href\"] for url in soup.find_all(tag_name, **tag_attrs)]\n",
    "    # return urls"
   ]
  },
  {
   "cell_type": "code",
   "execution_count": 91,
   "metadata": {},
   "outputs": [],
   "source": [
    "def aggregate_data(name, location, category, description, like, url):\n",
    "    data = {\n",
    "        \"name\": name,\n",
    "        \"location\": location,\n",
    "        \"category\": category,\n",
    "        \"description\": description,\n",
    "        \"like\": like,\n",
    "        \"url\": url\n",
    "    }\n",
    "    return data"
   ]
  },
  {
   "cell_type": "code",
   "execution_count": 92,
   "metadata": {},
   "outputs": [],
   "source": [
    "def store_data(data):\n",
    "    dataset = pd.DataFrame(data)\n",
    "    return dataset"
   ]
  },
  {
   "cell_type": "code",
   "execution_count": 93,
   "metadata": {},
   "outputs": [],
   "source": [
    "def main(url = \"https://hotels.ng/places/nigeria-1/\", pages = 3):\n",
    "    name_tag = \"a > h2\"\n",
    "    location_tag = (\"div\", {\"class\":\"category-de01\"})\n",
    "    category_tag = \"div\", {\"class\":\"category-de01\"}\n",
    "    description_tag = \"p\", {\"class\":\"sub-details\"}\n",
    "    like_tag = \"div\", {\"class\":\"head_right\"}\n",
    "    url_tag = \"div\", {\"class\":\"head_left\"}\n",
    "    print(url)\n",
    "    print(pages)\n",
    "    for page in range(1, pages+1):\n",
    "        print(page)\n",
    "        print(f\"url >> {url}{page}\")\n",
    "        soup = get_page(url, str(page))\n",
    "        name = parse_names(soup, name_tag)\n",
    "        location = parse_locations(soup, location_tag)\n",
    "        categories = parse_categories(soup, category_tag)\n",
    "        description = parse_descriptions(soup, description_tag)\n",
    "        likes = parse_likes(soup, like_tag)\n",
    "        urls = parse_urls(soup, url_tag)\n",
    "    mydata = aggregate_data(name, location, categories, description, likes, urls)\n",
    "    dataset = store_data(mydata)\n",
    "    return dataset\n",
    "\n",
    "    # get_page(url=\"https://hotels.ng/places/nigeria-1/1\")\n"
   ]
  },
  {
   "cell_type": "code",
   "execution_count": 94,
   "metadata": {},
   "outputs": [
    {
     "name": "stdout",
     "output_type": "stream",
     "text": [
      "https://hotels.ng/places/nigeria-1/\n",
      "3\n",
      "1\n",
      "url >> https://hotels.ng/places/nigeria-1/1\n"
     ]
    },
    {
     "name": "stdout",
     "output_type": "stream",
     "text": [
      "2\n",
      "url >> https://hotels.ng/places/nigeria-1/2\n",
      "3\n",
      "url >> https://hotels.ng/places/nigeria-1/3\n"
     ]
    }
   ],
   "source": [
    "if __name__ == \"__main__\":\n",
    "    main()\n"
   ]
  },
  {
   "cell_type": "code",
   "execution_count": 95,
   "metadata": {},
   "outputs": [
    {
     "name": "stdout",
     "output_type": "stream",
     "text": [
      "https://hotels.ng/places/nigeria-1/\n",
      "3\n",
      "1\n",
      "url >> https://hotels.ng/places/nigeria-1/1\n",
      "2\n",
      "url >> https://hotels.ng/places/nigeria-1/2\n",
      "3\n",
      "url >> https://hotels.ng/places/nigeria-1/3\n"
     ]
    },
    {
     "data": {
      "text/html": [
       "<div>\n",
       "<style scoped>\n",
       "    .dataframe tbody tr th:only-of-type {\n",
       "        vertical-align: middle;\n",
       "    }\n",
       "\n",
       "    .dataframe tbody tr th {\n",
       "        vertical-align: top;\n",
       "    }\n",
       "\n",
       "    .dataframe thead th {\n",
       "        text-align: right;\n",
       "    }\n",
       "</style>\n",
       "<table border=\"1\" class=\"dataframe\">\n",
       "  <thead>\n",
       "    <tr style=\"text-align: right;\">\n",
       "      <th></th>\n",
       "      <th>name</th>\n",
       "      <th>location</th>\n",
       "      <th>category</th>\n",
       "      <th>description</th>\n",
       "      <th>like</th>\n",
       "      <th>url</th>\n",
       "    </tr>\n",
       "  </thead>\n",
       "  <tbody>\n",
       "    <tr>\n",
       "      <th>0</th>\n",
       "      <td>Megan Fowler Bridge</td>\n",
       "      <td>Abuja</td>\n",
       "      <td>Building</td>\n",
       "      <td></td>\n",
       "      <td>38</td>\n",
       "      <td>https://hotels.ng/places/building/10-megan-fow...</td>\n",
       "    </tr>\n",
       "    <tr>\n",
       "      <th>1</th>\n",
       "      <td>The Chad Basin National Park</td>\n",
       "      <td>Abuja</td>\n",
       "      <td>Resort</td>\n",
       "      <td>About Chad Basin National Park   The Chad Basi...</td>\n",
       "      <td>133</td>\n",
       "      <td>https://hotels.ng/places/resort/11-the-chad-ba...</td>\n",
       "    </tr>\n",
       "    <tr>\n",
       "      <th>2</th>\n",
       "      <td>Yankari National Park</td>\n",
       "      <td>Bauchi</td>\n",
       "      <td>Game reserve</td>\n",
       "      <td>ABOUT   Yankari National Park is a large wildl...</td>\n",
       "      <td>46</td>\n",
       "      <td>https://hotels.ng/places/game-reserve/16-yanka...</td>\n",
       "    </tr>\n",
       "    <tr>\n",
       "      <th>3</th>\n",
       "      <td>Aso Rock</td>\n",
       "      <td>China</td>\n",
       "      <td>Monument</td>\n",
       "      <td>ABOUT    Aso Rock is a large outcrop of granit...</td>\n",
       "      <td>0</td>\n",
       "      <td>https://hotels.ng/places/monument/18-aso-rock</td>\n",
       "    </tr>\n",
       "    <tr>\n",
       "      <th>4</th>\n",
       "      <td>Ikogosi Warm Springs</td>\n",
       "      <td>Ekiti</td>\n",
       "      <td>Resort</td>\n",
       "      <td>About Ikogosi Warm Springs  'You are hot, and ...</td>\n",
       "      <td>2</td>\n",
       "      <td>https://hotels.ng/places/resort/19-ikogosi-war...</td>\n",
       "    </tr>\n",
       "    <tr>\n",
       "      <th>...</th>\n",
       "      <td>...</td>\n",
       "      <td>...</td>\n",
       "      <td>...</td>\n",
       "      <td>...</td>\n",
       "      <td>...</td>\n",
       "      <td>...</td>\n",
       "    </tr>\n",
       "    <tr>\n",
       "      <th>67</th>\n",
       "      <td>National War Museum, Umuahia</td>\n",
       "      <td>Abia</td>\n",
       "      <td>Museum</td>\n",
       "      <td>History of National War Museum, Umuahia  Natio...</td>\n",
       "      <td>29</td>\n",
       "      <td>https://hotels.ng/places/museum/47-national-wa...</td>\n",
       "    </tr>\n",
       "    <tr>\n",
       "      <th>68</th>\n",
       "      <td>International Institute of Tropical Agriculture</td>\n",
       "      <td>Oyo</td>\n",
       "      <td>College</td>\n",
       "      <td>About International Institute of Tropical Agri...</td>\n",
       "      <td>0</td>\n",
       "      <td>https://hotels.ng/places/college/48-internatio...</td>\n",
       "    </tr>\n",
       "    <tr>\n",
       "      <th>69</th>\n",
       "      <td>Millennium Park, Abuja</td>\n",
       "      <td>Abuja</td>\n",
       "      <td>Park</td>\n",
       "      <td>History of Millennium Park, Abuja  Millennium ...</td>\n",
       "      <td>221</td>\n",
       "      <td>https://hotels.ng/places/park/49-millennium-pa...</td>\n",
       "    </tr>\n",
       "    <tr>\n",
       "      <th>70</th>\n",
       "      <td>Wonderland Amusement Park and Resort</td>\n",
       "      <td>Abuja</td>\n",
       "      <td>Park</td>\n",
       "      <td>History of Wonderland Amusement Park and Resor...</td>\n",
       "      <td>253</td>\n",
       "      <td>https://hotels.ng/places/park/50-wonderland-am...</td>\n",
       "    </tr>\n",
       "    <tr>\n",
       "      <th>71</th>\n",
       "      <td>Funtopia water park</td>\n",
       "      <td>Lagos</td>\n",
       "      <td>Park</td>\n",
       "      <td>About Funtopia water park  Funtopia water park...</td>\n",
       "      <td>1,050</td>\n",
       "      <td>https://hotels.ng/places/park/51-funtopia-wate...</td>\n",
       "    </tr>\n",
       "  </tbody>\n",
       "</table>\n",
       "<p>72 rows × 6 columns</p>\n",
       "</div>"
      ],
      "text/plain": [
       "                                               name location      category  \\\n",
       "0                               Megan Fowler Bridge    Abuja      Building   \n",
       "1                      The Chad Basin National Park    Abuja        Resort   \n",
       "2                             Yankari National Park   Bauchi  Game reserve   \n",
       "3                                          Aso Rock    China      Monument   \n",
       "4                              Ikogosi Warm Springs    Ekiti        Resort   \n",
       "..                                              ...      ...           ...   \n",
       "67                     National War Museum, Umuahia     Abia        Museum   \n",
       "68  International Institute of Tropical Agriculture      Oyo       College   \n",
       "69                           Millennium Park, Abuja    Abuja          Park   \n",
       "70             Wonderland Amusement Park and Resort    Abuja          Park   \n",
       "71                              Funtopia water park    Lagos          Park   \n",
       "\n",
       "                                          description   like  \\\n",
       "0                                                         38   \n",
       "1   About Chad Basin National Park   The Chad Basi...    133   \n",
       "2   ABOUT   Yankari National Park is a large wildl...     46   \n",
       "3   ABOUT    Aso Rock is a large outcrop of granit...      0   \n",
       "4   About Ikogosi Warm Springs  'You are hot, and ...      2   \n",
       "..                                                ...    ...   \n",
       "67  History of National War Museum, Umuahia  Natio...     29   \n",
       "68  About International Institute of Tropical Agri...      0   \n",
       "69  History of Millennium Park, Abuja  Millennium ...    221   \n",
       "70  History of Wonderland Amusement Park and Resor...    253   \n",
       "71  About Funtopia water park  Funtopia water park...  1,050   \n",
       "\n",
       "                                                  url  \n",
       "0   https://hotels.ng/places/building/10-megan-fow...  \n",
       "1   https://hotels.ng/places/resort/11-the-chad-ba...  \n",
       "2   https://hotels.ng/places/game-reserve/16-yanka...  \n",
       "3       https://hotels.ng/places/monument/18-aso-rock  \n",
       "4   https://hotels.ng/places/resort/19-ikogosi-war...  \n",
       "..                                                ...  \n",
       "67  https://hotels.ng/places/museum/47-national-wa...  \n",
       "68  https://hotels.ng/places/college/48-internatio...  \n",
       "69  https://hotels.ng/places/park/49-millennium-pa...  \n",
       "70  https://hotels.ng/places/park/50-wonderland-am...  \n",
       "71  https://hotels.ng/places/park/51-funtopia-wate...  \n",
       "\n",
       "[72 rows x 6 columns]"
      ]
     },
     "execution_count": 95,
     "metadata": {},
     "output_type": "execute_result"
    }
   ],
   "source": [
    "main()"
   ]
  },
  {
   "cell_type": "code",
   "execution_count": null,
   "metadata": {},
   "outputs": [],
   "source": []
  },
  {
   "cell_type": "code",
   "execution_count": null,
   "metadata": {},
   "outputs": [],
   "source": []
  },
  {
   "cell_type": "code",
   "execution_count": null,
   "metadata": {},
   "outputs": [],
   "source": []
  }
 ],
 "metadata": {
  "kernelspec": {
   "display_name": "Python 3",
   "language": "python",
   "name": "python3"
  },
  "language_info": {
   "codemirror_mode": {
    "name": "ipython",
    "version": 3
   },
   "file_extension": ".py",
   "mimetype": "text/x-python",
   "name": "python",
   "nbconvert_exporter": "python",
   "pygments_lexer": "ipython3",
   "version": "3.11.6"
  }
 },
 "nbformat": 4,
 "nbformat_minor": 2
}
